{
 "cells": [
  {
   "cell_type": "markdown",
   "metadata": {},
   "source": [
    "# Latent Dirichlet allocation (LDA) in WebPPL"
   ]
  },
  {
   "cell_type": "code",
   "execution_count": 1,
   "metadata": {},
   "outputs": [],
   "source": [
    "import os\n",
    "import pandas as pd\n",
    "import numpy as np\n",
    "import warnings\n",
    "warnings.filterwarnings(\"ignore\")\n",
    "import matplotlib.pyplot as plt\n",
    "from matplotlib import font_manager\n",
    "from matplotlib import cm\n",
    "avenir = \"visuals/Avenir.ttf\""
   ]
  },
  {
   "cell_type": "markdown",
   "metadata": {},
   "source": [
    "## Distributions of words in each topic"
   ]
  },
  {
   "cell_type": "code",
   "execution_count": 2,
   "metadata": {},
   "outputs": [],
   "source": [
    "from wordcloud import WordCloud"
   ]
  },
  {
   "cell_type": "code",
   "execution_count": 3,
   "metadata": {},
   "outputs": [
    {
     "data": {
      "text/html": [
       "<div>\n",
       "<style>\n",
       "    .dataframe thead tr:only-child th {\n",
       "        text-align: right;\n",
       "    }\n",
       "\n",
       "    .dataframe thead th {\n",
       "        text-align: left;\n",
       "    }\n",
       "\n",
       "    .dataframe tbody tr th {\n",
       "        vertical-align: top;\n",
       "    }\n",
       "</style>\n",
       "<table border=\"1\" class=\"dataframe\">\n",
       "  <thead>\n",
       "    <tr style=\"text-align: right;\">\n",
       "      <th></th>\n",
       "      <th>1</th>\n",
       "      <th>2</th>\n",
       "    </tr>\n",
       "    <tr>\n",
       "      <th>0</th>\n",
       "      <th></th>\n",
       "      <th></th>\n",
       "    </tr>\n",
       "  </thead>\n",
       "  <tbody>\n",
       "    <tr>\n",
       "      <th>auditory</th>\n",
       "      <td>0.033727</td>\n",
       "      <td>0.613730</td>\n",
       "    </tr>\n",
       "    <tr>\n",
       "      <th>hearing</th>\n",
       "      <td>0.014571</td>\n",
       "      <td>0.363179</td>\n",
       "    </tr>\n",
       "    <tr>\n",
       "      <th>language</th>\n",
       "      <td>0.508210</td>\n",
       "      <td>0.021660</td>\n",
       "    </tr>\n",
       "    <tr>\n",
       "      <th>speech</th>\n",
       "      <td>0.443492</td>\n",
       "      <td>0.001431</td>\n",
       "    </tr>\n",
       "  </tbody>\n",
       "</table>\n",
       "</div>"
      ],
      "text/plain": [
       "                 1         2\n",
       "0                           \n",
       "auditory  0.033727  0.613730\n",
       "hearing   0.014571  0.363179\n",
       "language  0.508210  0.021660\n",
       "speech    0.443492  0.001431"
      ]
     },
     "execution_count": 3,
     "metadata": {},
     "output_type": "execute_result"
    }
   ],
   "source": [
    "df = pd.read_csv(\"lda/lda_example_5docs_10000samp_100burn_5lag_wordDistForTopic.csv\", index_col=0, header=None)\n",
    "df.head()"
   ]
  },
  {
   "cell_type": "code",
   "execution_count": 8,
   "metadata": {},
   "outputs": [
    {
     "name": "stdout",
     "output_type": "stream",
     "text": [
      "TOPIC 1\n"
     ]
    },
    {
     "data": {
      "image/png": "[encoded data removed]",
      "text/plain": [
       "<matplotlib.figure.Figure at 0x10c288910>"
      ]
     },
     "metadata": {},
     "output_type": "display_data"
    },
    {
     "name": "stdout",
     "output_type": "stream",
     "text": [
      "TOPIC 2\n"
     ]
    },
    {
     "data": {
      "image/png": "[encoded data removed]",
      "text/plain": [
       "<matplotlib.figure.Figure at 0x10c7a8590>"
      ]
     },
     "metadata": {},
     "output_type": "display_data"
    }
   ],
   "source": [
    "cms = [cm.Greens, cm.Greys]\n",
    "for i in range(1,len(df.columns)+1):\n",
    "    print(\"TOPIC {}\".format(i))\n",
    "    vals = [int(val*100) for val in df[i]]\n",
    "    words = {word: vals[j] for j, word in enumerate(df.index)}\n",
    "    wordcloud = WordCloud(width=450, height=450,\n",
    "                          prefer_horizontal=1,\n",
    "                          max_words=len(df),\n",
    "                          background_color=\"white\", \n",
    "                          font_path=avenir,\n",
    "                          colormap=cms[i-1],\n",
    "                          min_font_size=12).generate_from_frequencies(words)                     \n",
    "    plt.figure(figsize=(3, 3), facecolor=None) \n",
    "    plt.imshow(wordcloud) \n",
    "    plt.axis(\"off\")\n",
    "    plt.tight_layout(pad=0)\n",
    "    plt.savefig(\"visuals/example_wordsByTopic_{}.png\".format(i), bbox_inches=\"tight\", dpi=250)\n",
    "    plt.show() "
   ]
  },
  {
   "cell_type": "markdown",
   "metadata": {},
   "source": [
    "## Distribution of topics in each document"
   ]
  },
  {
   "cell_type": "code",
   "execution_count": 23,
   "metadata": {},
   "outputs": [
    {
     "data": {
      "text/html": [
       "<div>\n",
       "<style>\n",
       "    .dataframe thead tr:only-child th {\n",
       "        text-align: right;\n",
       "    }\n",
       "\n",
       "    .dataframe thead th {\n",
       "        text-align: left;\n",
       "    }\n",
       "\n",
       "    .dataframe tbody tr th {\n",
       "        vertical-align: top;\n",
       "    }\n",
       "</style>\n",
       "<table border=\"1\" class=\"dataframe\">\n",
       "  <thead>\n",
       "    <tr style=\"text-align: right;\">\n",
       "      <th></th>\n",
       "      <th>0</th>\n",
       "      <th>1</th>\n",
       "    </tr>\n",
       "  </thead>\n",
       "  <tbody>\n",
       "    <tr>\n",
       "      <th>0</th>\n",
       "      <td>0.127157</td>\n",
       "      <td>0.872843</td>\n",
       "    </tr>\n",
       "    <tr>\n",
       "      <th>1</th>\n",
       "      <td>0.999891</td>\n",
       "      <td>0.000109</td>\n",
       "    </tr>\n",
       "    <tr>\n",
       "      <th>2</th>\n",
       "      <td>0.000460</td>\n",
       "      <td>0.999540</td>\n",
       "    </tr>\n",
       "    <tr>\n",
       "      <th>3</th>\n",
       "      <td>0.988251</td>\n",
       "      <td>0.011749</td>\n",
       "    </tr>\n",
       "    <tr>\n",
       "      <th>4</th>\n",
       "      <td>0.021479</td>\n",
       "      <td>0.978521</td>\n",
       "    </tr>\n",
       "  </tbody>\n",
       "</table>\n",
       "</div>"
      ],
      "text/plain": [
       "          0         1\n",
       "0  0.127157  0.872843\n",
       "1  0.999891  0.000109\n",
       "2  0.000460  0.999540\n",
       "3  0.988251  0.011749\n",
       "4  0.021479  0.978521"
      ]
     },
     "execution_count": 23,
     "metadata": {},
     "output_type": "execute_result"
    }
   ],
   "source": [
    "df = pd.read_csv(\"lda/lda_example_5docs_10000samp_100burn_5lag_topicDistForDoc.csv\", index_col=None, header=None)\n",
    "df"
   ]
  },
  {
   "cell_type": "code",
   "execution_count": 40,
   "metadata": {},
   "outputs": [
    {
     "data": {
      "image/png": "[encoded data removed]",
      "text/plain": [
       "<matplotlib.figure.Figure at 0x10a716f10>"
      ]
     },
     "metadata": {},
     "output_type": "display_data"
    },
    {
     "data": {
      "image/png": "[encoded data removed]",
      "text/plain": [
       "<matplotlib.figure.Figure at 0x10c49f150>"
      ]
     },
     "metadata": {},
     "output_type": "display_data"
    },
    {
     "data": {
      "image/png": "[encoded data removed]",
      "text/plain": [
       "<matplotlib.figure.Figure at 0x10b3dba90>"
      ]
     },
     "metadata": {},
     "output_type": "display_data"
    },
    {
     "data": {
      "image/png": "[encoded data removed]",
      "text/plain": [
       "<matplotlib.figure.Figure at 0x10bb69510>"
      ]
     },
     "metadata": {},
     "output_type": "display_data"
    },
    {
     "data": {
      "image/png": "[encoded data removed]",
      "text/plain": [
       "<matplotlib.figure.Figure at 0x10aa0e650>"
      ]
     },
     "metadata": {},
     "output_type": "display_data"
    }
   ],
   "source": [
    "# Iterate over documents\n",
    "for i in range(len(df)):\n",
    "\n",
    "    # Plot data\n",
    "    fig = plt.figure(figsize=[2.65, 3.5])\n",
    "    plt.bar([0,1], df.loc[i], color=[\"#91d6ad\", \"gray\"])\n",
    "\n",
    "    # Style\n",
    "    font_labels = font_manager.FontProperties(fname=avenir, size=20)\n",
    "    font_ticks = font_manager.FontProperties(fname=avenir, size=18)\n",
    "    plt.ylabel(\"Probability\", fontproperties=font_labels)\n",
    "    plt.xticks(fontproperties=font_ticks)\n",
    "    plt.yticks(fontproperties=font_ticks)\n",
    "    plt.xlim([-0.25,2])\n",
    "    plt.ylim([0,1])\n",
    "    ax = plt.subplot(111)\n",
    "    ax.spines[\"right\"].set_visible(False)\n",
    "    ax.spines[\"top\"].set_visible(False)\n",
    "    ax.set_xticks([0.4,1.4])\n",
    "    ax.set_xticklabels((\"Topic 1\", \"Topic 2\"))\n",
    "    plt.tick_params(axis='both', which='both', bottom=False, top=False, left=False, right=False) \n",
    "\n",
    "    # Export\n",
    "    plt.savefig(\"visuals/example_topicsbyDoc_{}.png\".format(i), bbox_inches=\"tight\", dpi=250)\n",
    "    plt.show()"
   ]
  },
  {
   "cell_type": "markdown",
   "metadata": {},
   "source": [
    "## Perplexity over the number of MH samples"
   ]
  },
  {
   "cell_type": "code",
   "execution_count": 42,
   "metadata": {},
   "outputs": [
    {
     "data": {
      "text/html": [
       "<div>\n",
       "<style>\n",
       "    .dataframe thead tr:only-child th {\n",
       "        text-align: right;\n",
       "    }\n",
       "\n",
       "    .dataframe thead th {\n",
       "        text-align: left;\n",
       "    }\n",
       "\n",
       "    .dataframe tbody tr th {\n",
       "        vertical-align: top;\n",
       "    }\n",
       "</style>\n",
       "<table border=\"1\" class=\"dataframe\">\n",
       "  <thead>\n",
       "    <tr style=\"text-align: right;\">\n",
       "      <th></th>\n",
       "      <th>SAMPLES</th>\n",
       "      <th>PERPLEXITY</th>\n",
       "    </tr>\n",
       "  </thead>\n",
       "  <tbody>\n",
       "    <tr>\n",
       "      <th>0</th>\n",
       "      <td>1</td>\n",
       "      <td>7.063481</td>\n",
       "    </tr>\n",
       "    <tr>\n",
       "      <th>1</th>\n",
       "      <td>5</td>\n",
       "      <td>5.800444</td>\n",
       "    </tr>\n",
       "    <tr>\n",
       "      <th>2</th>\n",
       "      <td>10</td>\n",
       "      <td>5.648491</td>\n",
       "    </tr>\n",
       "    <tr>\n",
       "      <th>3</th>\n",
       "      <td>50</td>\n",
       "      <td>4.866228</td>\n",
       "    </tr>\n",
       "    <tr>\n",
       "      <th>4</th>\n",
       "      <td>100</td>\n",
       "      <td>4.129520</td>\n",
       "    </tr>\n",
       "  </tbody>\n",
       "</table>\n",
       "</div>"
      ],
      "text/plain": [
       "   SAMPLES  PERPLEXITY\n",
       "0        1    7.063481\n",
       "1        5    5.800444\n",
       "2       10    5.648491\n",
       "3       50    4.866228\n",
       "4      100    4.129520"
      ]
     },
     "execution_count": 42,
     "metadata": {},
     "output_type": "execute_result"
    }
   ],
   "source": [
    "df = pd.read_csv(\"lda/lda_example_perplexity.csv\", index_col=None, header=None)\n",
    "df.columns = [\"SAMPLES\", \"PERPLEXITY\"]\n",
    "df.head()"
   ]
  },
  {
   "cell_type": "code",
   "execution_count": 47,
   "metadata": {},
   "outputs": [
    {
     "data": {
      "image/png": "[encoded data removed]",
      "text/plain": [
       "<matplotlib.figure.Figure at 0x10a995fd0>"
      ]
     },
     "metadata": {},
     "output_type": "display_data"
    }
   ],
   "source": [
    "# Plot data\n",
    "fig = plt.figure(figsize=[4.75, 5.5])\n",
    "plt.scatter(df[\"SAMPLES\"], df[\"PERPLEXITY\"], color=\"gray\", alpha=0.2, s=50)\n",
    "\n",
    "# Fit curve\n",
    "z = np.polyfit(df[\"SAMPLES\"], df[\"PERPLEXITY\"], 2)\n",
    "f = np.poly1d(z)\n",
    "x_new = np.linspace(df[\"SAMPLES\"][0], list(df[\"SAMPLES\"])[-1], 50)\n",
    "y_new = f(x_new)\n",
    "plt.plot(x_new, y_new, color=\"k\", linewidth=3)\n",
    "\n",
    "# Style\n",
    "font_labels = font_manager.FontProperties(fname=avenir, size=24)\n",
    "font_ticks = font_manager.FontProperties(fname=avenir, size=18)\n",
    "plt.xlabel(\"Number of Samples\", fontproperties=font_labels)\n",
    "plt.ylabel(\"Perplexity\", fontproperties=font_labels)\n",
    "plt.xticks(fontproperties=font_ticks)\n",
    "plt.yticks(fontproperties=font_ticks)\n",
    "plt.xlim([-300,10300])\n",
    "ax = plt.subplot(111)\n",
    "ax.spines[\"right\"].set_visible(False)\n",
    "ax.spines[\"top\"].set_visible(False)\n",
    "plt.tick_params(axis='both', which='both', bottom=False, top=False, left=False, right=False) \n",
    "\n",
    "# Export\n",
    "plt.savefig(\"visuals/example_perplexity.png\", bbox_inches=\"tight\", dpi=250)\n",
    "plt.show()"
   ]
  },
  {
   "cell_type": "code",
   "execution_count": null,
   "metadata": {},
   "outputs": [],
   "source": []
  }
 ],
 "metadata": {
  "kernelspec": {
   "display_name": "Python 2",
   "language": "python",
   "name": "python2"
  },
  "language_info": {
   "codemirror_mode": {
    "name": "ipython",
    "version": 2
   },
   "file_extension": ".py",
   "mimetype": "text/x-python",
   "name": "python",
   "nbconvert_exporter": "python",
   "pygments_lexer": "ipython2",
   "version": "2.7.13"
  }
 },
 "nbformat": 4,
 "nbformat_minor": 2
}
