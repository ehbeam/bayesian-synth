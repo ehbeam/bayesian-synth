{
 "cells": [
  {
   "cell_type": "markdown",
   "metadata": {},
   "source": [
    "# Labeled latent Dirichlet allocation (L-LDA) in WebPPL"
   ]
  },
  {
   "cell_type": "code",
   "execution_count": 1,
   "metadata": {},
   "outputs": [],
   "source": [
    "import os\n",
    "import pandas as pd\n",
    "import numpy as np\n",
    "import warnings\n",
    "warnings.filterwarnings(\"ignore\")\n",
    "import matplotlib.pyplot as plt\n",
    "from matplotlib import font_manager\n",
    "from matplotlib import cm\n",
    "from wordcloud import WordCloud\n",
    "avenir = \"visuals/Avenir.ttf\""
   ]
  },
  {
   "cell_type": "markdown",
   "metadata": {},
   "source": [
    "## Distribution of words in each topic"
   ]
  },
  {
   "cell_type": "code",
   "execution_count": 2,
   "metadata": {},
   "outputs": [
    {
     "data": {
      "text/html": [
       "<div>\n",
       "<style>\n",
       "    .dataframe thead tr:only-child th {\n",
       "        text-align: right;\n",
       "    }\n",
       "\n",
       "    .dataframe thead th {\n",
       "        text-align: left;\n",
       "    }\n",
       "\n",
       "    .dataframe tbody tr th {\n",
       "        vertical-align: top;\n",
       "    }\n",
       "</style>\n",
       "<table border=\"1\" class=\"dataframe\">\n",
       "  <thead>\n",
       "    <tr style=\"text-align: right;\">\n",
       "      <th></th>\n",
       "      <th>1</th>\n",
       "      <th>2</th>\n",
       "    </tr>\n",
       "    <tr>\n",
       "      <th>0</th>\n",
       "      <th></th>\n",
       "      <th></th>\n",
       "    </tr>\n",
       "  </thead>\n",
       "  <tbody>\n",
       "    <tr>\n",
       "      <th>auditory</th>\n",
       "      <td>0.115555</td>\n",
       "      <td>0.035701</td>\n",
       "    </tr>\n",
       "    <tr>\n",
       "      <th>hearing</th>\n",
       "      <td>0.302476</td>\n",
       "      <td>0.668986</td>\n",
       "    </tr>\n",
       "    <tr>\n",
       "      <th>language</th>\n",
       "      <td>0.256673</td>\n",
       "      <td>0.217600</td>\n",
       "    </tr>\n",
       "    <tr>\n",
       "      <th>speech</th>\n",
       "      <td>0.325296</td>\n",
       "      <td>0.077714</td>\n",
       "    </tr>\n",
       "  </tbody>\n",
       "</table>\n",
       "</div>"
      ],
      "text/plain": [
       "                 1         2\n",
       "0                           \n",
       "auditory  0.115555  0.035701\n",
       "hearing   0.302476  0.668986\n",
       "language  0.256673  0.217600\n",
       "speech    0.325296  0.077714"
      ]
     },
     "execution_count": 2,
     "metadata": {},
     "output_type": "execute_result"
    }
   ],
   "source": [
    "df = pd.read_csv(\"lda/llda_example_5docs_10000samp_100burn_5lag_wordDistForTopic.csv\", index_col=0, header=None)\n",
    "df.head()"
   ]
  },
  {
   "cell_type": "code",
   "execution_count": 3,
   "metadata": {},
   "outputs": [
    {
     "data": {
      "image/png": "[encoded data removed]",
      "text/plain": [
       "<matplotlib.figure.Figure at 0x10e420f10>"
      ]
     },
     "metadata": {},
     "output_type": "display_data"
    }
   ],
   "source": [
    "# Initialize plot\n",
    "fig, axs = plt.subplots(1, 2, figsize=(6, 3))\n",
    "axs = axs.ravel()\n",
    "cms = [cm.Greens, cm.Greys]\n",
    "for i in range(1,len(df.columns)+1):\n",
    "    vals = [int(val*100) for val in df[i]]\n",
    "    words = {word: vals[j] for j, word in enumerate(df.index)}\n",
    "    wordcloud = WordCloud(width=450, height=450,\n",
    "                          prefer_horizontal=1,\n",
    "                          max_words=len(df),\n",
    "                          background_color=\"white\", \n",
    "                          font_path=avenir,\n",
    "                          colormap=cms[i-1],\n",
    "                          min_font_size=12).generate_from_frequencies(words)                     \n",
    "    axs[i-1].imshow(wordcloud) \n",
    "    axs[i-1].axis(\"off\")\n",
    "\n",
    "# Export plot\n",
    "plt.tight_layout(pad=0)\n",
    "plt.savefig(\"visuals/llda_wordsByTopic.png\", bbox_inches=\"tight\", dpi=250)\n",
    "plt.show() "
   ]
  },
  {
   "cell_type": "markdown",
   "metadata": {},
   "source": [
    "## Distribution of topics in each document"
   ]
  },
  {
   "cell_type": "code",
   "execution_count": 4,
   "metadata": {},
   "outputs": [
    {
     "data": {
      "text/html": [
       "<div>\n",
       "<style>\n",
       "    .dataframe thead tr:only-child th {\n",
       "        text-align: right;\n",
       "    }\n",
       "\n",
       "    .dataframe thead th {\n",
       "        text-align: left;\n",
       "    }\n",
       "\n",
       "    .dataframe tbody tr th {\n",
       "        vertical-align: top;\n",
       "    }\n",
       "</style>\n",
       "<table border=\"1\" class=\"dataframe\">\n",
       "  <thead>\n",
       "    <tr style=\"text-align: right;\">\n",
       "      <th></th>\n",
       "      <th>0</th>\n",
       "      <th>1</th>\n",
       "    </tr>\n",
       "  </thead>\n",
       "  <tbody>\n",
       "    <tr>\n",
       "      <th>0</th>\n",
       "      <td>0.006309</td>\n",
       "      <td>0.993691</td>\n",
       "    </tr>\n",
       "    <tr>\n",
       "      <th>1</th>\n",
       "      <td>0.167111</td>\n",
       "      <td>0.832889</td>\n",
       "    </tr>\n",
       "    <tr>\n",
       "      <th>2</th>\n",
       "      <td>0.896886</td>\n",
       "      <td>0.103114</td>\n",
       "    </tr>\n",
       "    <tr>\n",
       "      <th>3</th>\n",
       "      <td>0.676162</td>\n",
       "      <td>0.323838</td>\n",
       "    </tr>\n",
       "    <tr>\n",
       "      <th>4</th>\n",
       "      <td>0.047457</td>\n",
       "      <td>0.952543</td>\n",
       "    </tr>\n",
       "  </tbody>\n",
       "</table>\n",
       "</div>"
      ],
      "text/plain": [
       "          0         1\n",
       "0  0.006309  0.993691\n",
       "1  0.167111  0.832889\n",
       "2  0.896886  0.103114\n",
       "3  0.676162  0.323838\n",
       "4  0.047457  0.952543"
      ]
     },
     "execution_count": 4,
     "metadata": {},
     "output_type": "execute_result"
    }
   ],
   "source": [
    "df = pd.read_csv(\"lda/llda_example_5docs_10000samp_100burn_5lag_topicDistForDoc.csv\", index_col=None, header=None)\n",
    "df"
   ]
  },
  {
   "cell_type": "code",
   "execution_count": 5,
   "metadata": {},
   "outputs": [
    {
     "data": {
      "image/png": "[encoded data removed]",
      "text/plain": [
       "<matplotlib.figure.Figure at 0x10e420a10>"
      ]
     },
     "metadata": {},
     "output_type": "display_data"
    }
   ],
   "source": [
    "# Initialize plot\n",
    "fig, axs = plt.subplots(1, 5, figsize=(16, 3.5))\n",
    "axs = axs.ravel()\n",
    "font_labels = font_manager.FontProperties(fname=avenir, size=20)\n",
    "font_ticks = font_manager.FontProperties(fname=avenir, size=18)    \n",
    "\n",
    "# Iterate over documents\n",
    "for i in range(len(df)):\n",
    "\n",
    "    # Plot data\n",
    "    axs[i].bar([0,1], df.loc[i], color=[\"#91d6ad\", \"gray\"])\n",
    "\n",
    "    # Style\n",
    "    for label in axs[i].get_xticklabels():\n",
    "        label.set_fontproperties(font_ticks)\n",
    "    for label in axs[i].get_yticklabels():\n",
    "        label.set_fontproperties(font_ticks)\n",
    "    axs[i].set_xlim([-0.25,2])\n",
    "    axs[i].set_ylim([0,1])\n",
    "    axs[i].spines[\"right\"].set_visible(False)\n",
    "    axs[i].spines[\"top\"].set_visible(False)\n",
    "    axs[i].set_xticks([0.4,1.4])\n",
    "    axs[i].set_xticklabels((\"Topic 1\", \"Topic 2\"))\n",
    "    axs[i].tick_params(axis='both', which='both', bottom=False, top=False, left=False, right=False) \n",
    "\n",
    "# Style plot\n",
    "plt.tight_layout()\n",
    "axs[0].set_ylabel(\"Probability\", fontproperties=font_labels)\n",
    "\n",
    "# Export\n",
    "plt.savefig(\"visuals/llda_topicsbyDoc.png\", bbox_inches=\"tight\", dpi=250)\n",
    "plt.show()"
   ]
  },
  {
   "cell_type": "markdown",
   "metadata": {},
   "source": [
    "## Perplexity over the number of MH samples"
   ]
  },
  {
   "cell_type": "code",
   "execution_count": 6,
   "metadata": {},
   "outputs": [
    {
     "data": {
      "text/plain": [
       "700"
      ]
     },
     "execution_count": 6,
     "metadata": {},
     "output_type": "execute_result"
    }
   ],
   "source": [
    "df = pd.read_csv(\"lda/llda_example_perplexity.csv\", index_col=None, header=None)\n",
    "df.columns = [\"SAMPLES\", \"PERPLEXITY\"]\n",
    "df = df[:(11*100)]\n",
    "df = df.loc[df[\"SAMPLES\"] > 50]\n",
    "len(df)"
   ]
  },
  {
   "cell_type": "code",
   "execution_count": 11,
   "metadata": {},
   "outputs": [
    {
     "data": {
      "text/plain": [
       "7000"
      ]
     },
     "execution_count": 11,
     "metadata": {},
     "output_type": "execute_result"
    }
   ],
   "source": [
    "df_lda = pd.read_csv(\"lda/lda_example_perplexity.csv\", index_col=None, header=None)\n",
    "df_lda.columns = [\"SAMPLES\", \"PERPLEXITY\"]\n",
    "df_lda = df_lda.loc[df_lda[\"SAMPLES\"] > 50]\n",
    "len(df_lda)"
   ]
  },
  {
   "cell_type": "code",
   "execution_count": 12,
   "metadata": {},
   "outputs": [
    {
     "name": "stdout",
     "output_type": "stream",
     "text": [
      "4.310868545403659e-17\n",
      "1.2068773970312805e-85\n",
      "1.9402556685496164e-95\n",
      "8.138018509782483e-154\n",
      "4.210361374007334e-239\n",
      "6.801775942545092e-243\n",
      "6.056472129322089e-228\n"
     ]
    }
   ],
   "source": [
    "# T-tests at each number of samples\n",
    "from scipy.stats import ttest_ind\n",
    "from collections import OrderedDict\n",
    "n_samps = list(OrderedDict.fromkeys(df[\"SAMPLES\"]))\n",
    "for n_samp in n_samps:\n",
    "    ttest = ttest_ind(df.loc[df[\"SAMPLES\"] == n_samp, \"PERPLEXITY\"], \n",
    "                      df_lda.loc[df_lda[\"SAMPLES\"] == n_samp, \"PERPLEXITY\"])\n",
    "    print(ttest.pvalue * len(n_samps))"
   ]
  },
  {
   "cell_type": "code",
   "execution_count": 13,
   "metadata": {},
   "outputs": [
    {
     "data": {
      "image/png": "[encoded data removed]",
      "text/plain": [
       "<matplotlib.figure.Figure at 0x112e27110>"
      ]
     },
     "metadata": {},
     "output_type": "display_data"
    }
   ],
   "source": [
    "# Initialize figure\n",
    "fig = plt.figure(figsize=[9, 4])\n",
    "\n",
    "# Plot data from simple and marginalized implementations\n",
    "plt.scatter(df[\"SAMPLES\"], df[\"PERPLEXITY\"], color=\"gray\", alpha=0.2, s=50)\n",
    "plt.scatter(df_lda[\"SAMPLES\"], df_lda[\"PERPLEXITY\"], color=\"#91d6ad\", alpha=0.2, s=50)\n",
    "\n",
    "# Fit curves\n",
    "z = np.polyfit(df[\"SAMPLES\"], df[\"PERPLEXITY\"], 2)\n",
    "f = np.poly1d(z)\n",
    "x_new = np.linspace(100, 10000, 50)\n",
    "y_new = f(x_new)\n",
    "plt.plot(x_new, y_new, color=\"k\", linewidth=3)\n",
    "z = np.polyfit(df_lda[\"SAMPLES\"], df_lda[\"PERPLEXITY\"], 2)\n",
    "f = np.poly1d(z)\n",
    "x_new = np.linspace(100, 10000, 50)\n",
    "y_new = f(x_new)\n",
    "plt.plot(x_new, y_new, color=\"#54916d\", linewidth=3)\n",
    "\n",
    "# Style\n",
    "font_labels = font_manager.FontProperties(fname=avenir, size=24)\n",
    "font_ticks = font_manager.FontProperties(fname=avenir, size=18)\n",
    "plt.xlabel(\"Number of Samples\", fontproperties=font_labels)\n",
    "plt.ylabel(\"Perplexity\", fontproperties=font_labels)\n",
    "plt.xticks(fontproperties=font_ticks)\n",
    "plt.yticks(fontproperties=font_ticks)\n",
    "plt.xlim([-300,10300])\n",
    "plt.ylim([0,20])\n",
    "ax = plt.subplot(111)\n",
    "ax.spines[\"right\"].set_visible(False)\n",
    "ax.spines[\"top\"].set_visible(False)\n",
    "plt.tick_params(axis='both', which='both', bottom=False, top=False, left=False, right=False) \n",
    "\n",
    "# Export\n",
    "plt.savefig(\"visuals/llda_perplexity.png\", bbox_inches=\"tight\", dpi=250)\n",
    "plt.show()"
   ]
  },
  {
   "cell_type": "code",
   "execution_count": null,
   "metadata": {},
   "outputs": [],
   "source": []
  }
 ],
 "metadata": {
  "kernelspec": {
   "display_name": "Python 2",
   "language": "python",
   "name": "python2"
  },
  "language_info": {
   "codemirror_mode": {
    "name": "ipython",
    "version": 2
   },
   "file_extension": ".py",
   "mimetype": "text/x-python",
   "name": "python",
   "nbconvert_exporter": "python",
   "pygments_lexer": "ipython2",
   "version": "2.7.13"
  }
 },
 "nbformat": 4,
 "nbformat_minor": 2
}
